{
 "cells": [
  {
   "cell_type": "markdown",
   "id": "conservative-thing",
   "metadata": {},
   "source": [
    "# Data Science Tools and Ecosystem"
   ]
  },
  {
   "cell_type": "markdown",
   "id": "worthy-architect",
   "metadata": {},
   "source": [
    "In this notebook, Data Science Tools and Ecosystem are summarized."
   ]
  },
  {
   "cell_type": "markdown",
   "id": "unlikely-apparatus",
   "metadata": {},
   "source": [
    "Some of the popular languages that Data Scientists use are:\n",
    "1. Python\n",
    "2. R\n",
    "3. Java Script"
   ]
  },
  {
   "cell_type": "markdown",
   "id": "banned-hands",
   "metadata": {},
   "source": [
    "Some of the commonly used libraries used by Data Scientists include:\n",
    "1. Pandas\n",
    "2. Numpy\n",
    "3. TensorFlow"
   ]
  },
  {
   "cell_type": "markdown",
   "id": "hired-simon",
   "metadata": {},
   "source": [
    "| Data Science Tools |\n",
    "| ------------------ |\n",
    "| Pandas |\n",
    "| Knime |\n",
    "| TensorFlow |"
   ]
  },
  {
   "cell_type": "markdown",
   "id": "effective-hospital",
   "metadata": {},
   "source": [
    "### Below are a few examples of evaluating arithmetic expressions in Python"
   ]
  },
  {
   "cell_type": "markdown",
   "id": "placed-wings",
   "metadata": {},
   "source": [
    "This a simple arithmetic expression to mutiply then add integers"
   ]
  },
  {
   "cell_type": "code",
   "execution_count": 2,
   "id": "willing-falls",
   "metadata": {},
   "outputs": [
    {
     "data": {
      "text/plain": [
       "17"
      ]
     },
     "execution_count": 2,
     "metadata": {},
     "output_type": "execute_result"
    }
   ],
   "source": [
    "(3*4)+5"
   ]
  },
  {
   "cell_type": "markdown",
   "id": "exotic-matthew",
   "metadata": {},
   "source": [
    "This will convert 200 minutes to hours by diving by 60"
   ]
  },
  {
   "cell_type": "code",
   "execution_count": 3,
   "id": "homeless-sender",
   "metadata": {},
   "outputs": [
    {
     "data": {
      "text/plain": [
       "(3, 20)"
      ]
     },
     "execution_count": 3,
     "metadata": {},
     "output_type": "execute_result"
    }
   ],
   "source": [
    "divmod(200,60)"
   ]
  },
  {
   "cell_type": "markdown",
   "id": "stock-wagon",
   "metadata": {},
   "source": [
    "Objectives:\n",
    "* extract valuable information that can be used for strategic decision making\n",
    "* extract valuable information that can be used for making new product\n",
    "* Collecting Data\n",
    "* Processing Data\n",
    "* Appling and Visualization Data"
   ]
  },
  {
   "cell_type": "markdown",
   "id": "judicial-brooklyn",
   "metadata": {},
   "source": [
    "# Author\n",
    "Fahmi Adam, MBA"
   ]
  },
  {
   "cell_type": "code",
   "execution_count": null,
   "id": "innovative-madrid",
   "metadata": {},
   "outputs": [],
   "source": []
  }
 ],
 "metadata": {
  "kernelspec": {
   "display_name": "Python 3",
   "language": "python",
   "name": "python3"
  },
  "language_info": {
   "codemirror_mode": {
    "name": "ipython",
    "version": 3
   },
   "file_extension": ".py",
   "mimetype": "text/x-python",
   "name": "python",
   "nbconvert_exporter": "python",
   "pygments_lexer": "ipython3",
   "version": "3.9.2"
  }
 },
 "nbformat": 4,
 "nbformat_minor": 5
}
